{
 "cells": [
  {
   "cell_type": "code",
   "execution_count": 8,
   "metadata": {},
   "outputs": [
    {
     "name": "stdout",
     "output_type": "stream",
     "text": [
      "Valor de m:2\n",
      "Valor de n:2\n",
      "¿Cuál es la tolerancia de deseas: 1\n",
      "Cuál es el número maxicmo de iteracines?5\n",
      "Método de Gauss-Seidel\n",
      "Introduce la matriz de coeficientes y el vector solución\n",
      "Elemento a[11] 1\n",
      "Elemento a[12] 2\n",
      "b[1]: 3\n",
      "Elemento a[21] 4\n",
      "Elemento a[22] 5\n",
      "b[2]: 6\n",
      "Método de Gauss-Seidel\n",
      "x[0]: 3.0\n",
      "x[1]: -1.2\n",
      "x[0]: 5.4\n",
      "x[1]: -3.12\n",
      "x[0]: 9.24\n",
      "x[1]: -6.192\n",
      "x[0]: 15.384\n",
      "x[1]: -11.1072\n",
      "x[0]: 25.2144\n",
      "x[1]: -18.97152\n"
     ]
    }
   ],
   "source": [
    "import numpy\n",
    "\n",
    "m=int(input('Valor de m:')) #Renglones = m\n",
    "n=int(input('Valor de n:')) #Columnas = n\n",
    "tolerancia  = float(input(\"¿Cuál es la tolerancia de deseas: \"))\n",
    "iteraciones = int(input(\"Cuál es el número maxicmo de iteraciones?\"))\n",
    "\n",
    "matrix = numpy.zeros((m,n))\n",
    "x=numpy.zeros((m))\n",
    "\n",
    "vector       = numpy.zeros((n))\n",
    "comprobacion = numpy.zeros((m))\n",
    "error        = []\n",
    "\n",
    "print ('Método de Gauss-Seidel')\n",
    "print ('Introduce la matriz de coeficientes y el vector solución')\n",
    "for r in range(0,m):\n",
    "    for c in range(0,n):\n",
    "        matrix[(r),(c)]=float(input(\"Elemento a[\"+str(r+1)+str(c+1)+\"] \"))\n",
    "    vector[(r)]=float(input('b['+str(r+1)+']: '))\n",
    "\n",
    "print (\"Método de Gauss-Seidel\")\n",
    "\n",
    "k=0\n",
    "while k < iteraciones:\n",
    "    suma=0\n",
    "    k=k+1\n",
    "    for r in range(0,m):\n",
    "        suma=0\n",
    "        for c in range(0,n):\n",
    "            if (c != r):\n",
    "                suma=suma+matrix[r,c]*x[c]               \n",
    "        x[r]=(vector[r]-suma)/matrix[r,r]\n",
    "        print(\"x[\"+str(r)+\"]: \"+str(x[r]))\n",
    "    del error[:]\n",
    "\n",
    "#Comprobación\n",
    "\n",
    "  "
   ]
  },
  {
   "cell_type": "code",
   "execution_count": null,
   "metadata": {},
   "outputs": [],
   "source": []
  }
 ],
 "metadata": {
  "kernelspec": {
   "display_name": "Python 3",
   "language": "python",
   "name": "python3"
  },
  "language_info": {
   "codemirror_mode": {
    "name": "ipython",
    "version": 3
   },
   "file_extension": ".py",
   "mimetype": "text/x-python",
   "name": "python",
   "nbconvert_exporter": "python",
   "pygments_lexer": "ipython3",
   "version": "3.8.3"
  }
 },
 "nbformat": 4,
 "nbformat_minor": 4
}
