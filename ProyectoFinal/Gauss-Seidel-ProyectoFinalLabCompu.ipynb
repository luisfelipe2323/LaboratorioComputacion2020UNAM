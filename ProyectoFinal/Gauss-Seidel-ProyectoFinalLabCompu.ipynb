{
 "cells": [
  {
   "cell_type": "code",
   "execution_count": null,
   "metadata": {},
   "outputs": [
    {
     "name": "stdout",
     "output_type": "stream",
     "text": [
      "Valor de m:3\n",
      "Valor de n:3\n",
      "¿Cuál es la tolerancia de deseas: 0.0001\n",
      "Cuál es el número maxicmo de iteraciones?10\n",
      "Método de Gauss-Seidel\n",
      "Introduce la matriz de coeficientes y el vector solución\n",
      "Elemento a[11] 3\n",
      "Elemento a[12] -0.1\n",
      "Elemento a[13] -0.2\n"
     ]
    }
   ],
   "source": [
    "import numpy\n",
    "\n",
    "m=int(input('Valor de m:')) #Renglones = m\n",
    "n=int(input('Valor de n:')) #Columnas = n\n",
    "tolerancia  = float(input(\"¿Cuál es la tolerancia de deseas: \"))\n",
    "iteraciones = int(input(\"Cuál es el número maxicmo de iteraciones?\"))\n",
    "\n",
    "matrix = numpy.zeros((m,n))\n",
    "x=numpy.zeros((m))\n",
    "\n",
    "vector       = numpy.zeros((n))\n",
    "comprobacion = numpy.zeros((m))\n",
    "error        = []\n",
    "\n",
    "print ('Método de Gauss-Seidel')\n",
    "print ('Introduce la matriz de coeficientes y el vector solución')\n",
    "for r in range(0,m):\n",
    "    for c in range(0,n):\n",
    "        matrix[(r),(c)]=float(input(\"Elemento a[\"+str(r+1)+str(c+1)+\"] \"))\n",
    "    vector[(r)]=float(input('b['+str(r+1)+']: '))\n",
    "\n",
    "print (\"Método de Gauss-Seidel\")\n",
    "\n",
    "k=0\n",
    "while k < iteraciones:\n",
    "    suma=0\n",
    "    k=k+1\n",
    "    for r in range(0,m):\n",
    "        suma=0\n",
    "        for c in range(0,n):\n",
    "            if (c != r):\n",
    "                suma=suma+matrix[r,c]*x[c]               \n",
    "        x[r]=(vector[r]-suma)/matrix[r,r]\n",
    "        print(\"x[\"+str(r)+\"]: \"+str(x[r]))\n",
    "    del error[:]\n",
    "\n",
    "#Comprobación\n",
    "    for r in range(0,m):\n",
    "        suma=0\n",
    "        for c in range(0,n):\n",
    "            suma=suma+matrix[r,c]*x[c]               \n",
    "        comprobacion[r]=suma\n",
    "        dif=abs(comprobacion[r]-vector[r])\n",
    "        error.append(dif)\n",
    "        print(\"Error en x[\",r,\"]= \",error[r])\n",
    "    print(\"Iteraciones: \",k)\n",
    "    if all(i<=tolerancia for i in error)== True:\n",
    "        break\n",
    "\n",
    "print(\"Termino de iteraciones\")\n",
    "  "
   ]
  },
  {
   "cell_type": "code",
   "execution_count": null,
   "metadata": {},
   "outputs": [],
   "source": []
  }
 ],
 "metadata": {
  "kernelspec": {
   "display_name": "Python 3",
   "language": "python",
   "name": "python3"
  },
  "language_info": {
   "codemirror_mode": {
    "name": "ipython",
    "version": 3
   },
   "file_extension": ".py",
   "mimetype": "text/x-python",
   "name": "python",
   "nbconvert_exporter": "python",
   "pygments_lexer": "ipython3",
   "version": "3.8.3"
  }
 },
 "nbformat": 4,
 "nbformat_minor": 4
}
