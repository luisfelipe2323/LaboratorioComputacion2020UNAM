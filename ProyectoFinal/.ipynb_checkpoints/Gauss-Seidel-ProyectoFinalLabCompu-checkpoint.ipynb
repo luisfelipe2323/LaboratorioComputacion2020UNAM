{
 "cells": [
  {
   "cell_type": "code",
   "execution_count": 19,
   "metadata": {},
   "outputs": [
    {
     "name": "stdout",
     "output_type": "stream",
     "text": [
      "Valor de m:3\n",
      "Valor de n:3\n",
      "¿Cuál es la tolerancia de deseas: 0.0001\n",
      "Cuál es el número maxicmo de iteraciones?10\n",
      "Método de Gauss-Seidel\n",
      "Introduce la matriz de coeficientes y el vector solución\n",
      "Elemento a[11] 3\n",
      "Elemento a[12] -0.1\n",
      "Elemento a[13] -0.2\n",
      "b[1]: 7.85\n",
      "Elemento a[21] 0.1\n",
      "Elemento a[22] 7\n",
      "Elemento a[23] -0.3\n",
      "b[2]: -19.3\n",
      "Elemento a[31] 0.3\n",
      "Elemento a[32] -0.2\n",
      "Elemento a[33] 10\n",
      "b[3]: 71.4\n",
      "Método de Gauss-Seidel\n",
      "x[0]: 2.6166666666666667\n",
      "x[1]: -2.7945238095238096\n",
      "x[2]: 7.0056095238095235\n",
      "Error en x[ 0 ]=  1.1216695238095227\n",
      "Error en x[ 1 ]=  2.1016828571428583\n",
      "Error en x[ 2 ]=  0.0\n",
      "Iteraciones:  1\n",
      "x[0]: 2.990556507936508\n",
      "x[1]: -2.499624684807256\n",
      "x[2]: 7.00029081106576\n",
      "Error en x[ 0 ]=  0.028426169922901146\n",
      "Error en x[ 1 ]=  0.0015956138231310035\n",
      "Error en x[ 2 ]=  0.0\n",
      "Iteraciones:  2\n",
      "x[0]: 3.0000318979108087\n",
      "x[1]: -2.499987992353051\n",
      "x[2]: 6.999999283215615\n",
      "Error en x[ 0 ]=  9.46363246088211e-05\n",
      "Error en x[ 1 ]=  8.745835504342381e-05\n",
      "Error en x[ 2 ]=  0.0\n",
      "Iteraciones:  3\n"
     ]
    },
    {
     "ename": "NameError",
     "evalue": "name 'Print' is not defined",
     "output_type": "error",
     "traceback": [
      "\u001b[1;31m---------------------------------------------------------------------------\u001b[0m",
      "\u001b[1;31mNameError\u001b[0m                                 Traceback (most recent call last)",
      "\u001b[1;32m<ipython-input-19-139f44adc57e>\u001b[0m in \u001b[0;36m<module>\u001b[1;34m\u001b[0m\n\u001b[0;32m     48\u001b[0m         \u001b[1;32mbreak\u001b[0m\u001b[1;33m\u001b[0m\u001b[1;33m\u001b[0m\u001b[0m\n\u001b[0;32m     49\u001b[0m \u001b[1;33m\u001b[0m\u001b[0m\n\u001b[1;32m---> 50\u001b[1;33m \u001b[0mPrint\u001b[0m\u001b[1;33m(\u001b[0m\u001b[1;34m\"Termino de iteraciones\"\u001b[0m\u001b[1;33m)\u001b[0m\u001b[1;33m\u001b[0m\u001b[1;33m\u001b[0m\u001b[0m\n\u001b[0m\u001b[0;32m     51\u001b[0m \u001b[1;33m\u001b[0m\u001b[0m\n",
      "\u001b[1;31mNameError\u001b[0m: name 'Print' is not defined"
     ]
    }
   ],
   "source": [
    "import numpy\n",
    "\n",
    "m=int(input('Valor de m:')) #Renglones = m\n",
    "n=int(input('Valor de n:')) #Columnas = n\n",
    "tolerancia  = float(input(\"¿Cuál es la tolerancia de deseas: \"))\n",
    "iteraciones = int(input(\"Cuál es el número maxicmo de iteraciones?\"))\n",
    "\n",
    "matrix = numpy.zeros((m,n))\n",
    "x=numpy.zeros((m))\n",
    "\n",
    "vector       = numpy.zeros((n))\n",
    "comprobacion = numpy.zeros((m))\n",
    "error        = []\n",
    "\n",
    "print ('Método de Gauss-Seidel')\n",
    "print ('Introduce la matriz de coeficientes y el vector solución')\n",
    "for r in range(0,m):\n",
    "    for c in range(0,n):\n",
    "        matrix[(r),(c)]=float(input(\"Elemento a[\"+str(r+1)+str(c+1)+\"] \"))\n",
    "    vector[(r)]=float(input('b['+str(r+1)+']: '))\n",
    "\n",
    "print (\"Método de Gauss-Seidel\")\n",
    "\n",
    "k=0\n",
    "while k < iteraciones:\n",
    "    suma=0\n",
    "    k=k+1\n",
    "    for r in range(0,m):\n",
    "        suma=0\n",
    "        for c in range(0,n):\n",
    "            if (c != r):\n",
    "                suma=suma+matrix[r,c]*x[c]               \n",
    "        x[r]=(vector[r]-suma)/matrix[r,r]\n",
    "        print(\"x[\"+str(r)+\"]: \"+str(x[r]))\n",
    "    del error[:]\n",
    "\n",
    "#Comprobación\n",
    "    for r in range(0,m):\n",
    "        suma=0\n",
    "        for c in range(0,n):\n",
    "            suma=suma+matrix[r,c]*x[c]               \n",
    "        comprobacion[r]=suma\n",
    "        dif=abs(comprobacion[r]-vector[r])\n",
    "        error.append(dif)\n",
    "        print(\"Error en x[\",r,\"]= \",error[r])\n",
    "    print(\"Iteraciones: \",k)\n",
    "    if all(i<=tolerancia for i in error)== True:\n",
    "        break\n",
    "\n",
    "print(\"Termino de iteraciones\")\n",
    "  "
   ]
  },
  {
   "cell_type": "code",
   "execution_count": null,
   "metadata": {},
   "outputs": [],
   "source": []
  },
  {
   "cell_type": "code",
   "execution_count": null,
   "metadata": {},
   "outputs": [],
   "source": []
  }
 ],
 "metadata": {
  "kernelspec": {
   "display_name": "Python 3",
   "language": "python",
   "name": "python3"
  },
  "language_info": {
   "codemirror_mode": {
    "name": "ipython",
    "version": 3
   },
   "file_extension": ".py",
   "mimetype": "text/x-python",
   "name": "python",
   "nbconvert_exporter": "python",
   "pygments_lexer": "ipython3",
   "version": "3.8.3"
  }
 },
 "nbformat": 4,
 "nbformat_minor": 4
}
